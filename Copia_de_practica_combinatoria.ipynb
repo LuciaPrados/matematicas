{
  "nbformat": 4,
  "nbformat_minor": 0,
  "metadata": {
    "colab": {
      "provenance": [],
      "toc_visible": true,
      "include_colab_link": true
    },
    "kernelspec": {
      "name": "python3",
      "display_name": "Python 3"
    },
    "language_info": {
      "name": "python"
    }
  },
  "cells": [
    {
      "cell_type": "markdown",
      "metadata": {
        "id": "view-in-github",
        "colab_type": "text"
      },
      "source": [
        "<a href=\"https://colab.research.google.com/github/LuciaPrados/matematicas/blob/combinatoria/Copia_de_practica_combinatoria.ipynb\" target=\"_parent\"><img src=\"https://colab.research.google.com/assets/colab-badge.svg\" alt=\"Open In Colab\"/></a>"
      ]
    },
    {
      "cell_type": "markdown",
      "source": [
        "# Práctica 1. Combinatoria\n",
        "Resuelva los siguientes apartados de la práctica.  \n",
        "La práctica 1.1 se proporciona solucionada para que pueda servir como ejemplo.\n"
      ],
      "metadata": {
        "id": "VP-PLgSCPtPC"
      }
    },
    {
      "cell_type": "markdown",
      "source": [
        "## Práctica 1.1\n",
        "Cuatro amigos:\n",
        "* Antonio (A)\n",
        "* Begoña (B)\n",
        "* Cesar (C)\n",
        "* Diana (D)\n",
        "\n",
        "constituyen una asociación y tienen que asignar los siguientes cargos:\n",
        "* Presiente (1)\n",
        "* Vicepresidente (2)\n",
        "* Secretario (3)\n",
        "* Tesorero (4)\n",
        "\n",
        "Se pide:\n",
        "1. Escribiendo la solución en una celda de Markdown analice el caso indicando si se trata de variaciones, permutaciones o combinaciones, con o sin repetición o el caso que sea, y el motivo para clasificar el caso de esta forma.\n",
        "2. Utilizando fórmulas de $\\LaTeX$ calcule cuántos casos existen.\n",
        "3. Cree un programa en Python para calcule cuántos casos existen.\n",
        "4. Cree un programa en Python para imprimir todas las posibilidades y numérelas. Por ejemplo:\n",
        "    - 1 ABCD\n",
        "    - 2 ABDC\n",
        "    - 3 ACBD\n",
        "    - &#20; &#20; &#20; ... ... ..."
      ],
      "metadata": {
        "id": "6oyoxqfbQJDC"
      }
    },
    {
      "cell_type": "markdown",
      "source": [
        "### Solución 1.1\n",
        "* Estamos ante un caso de **permutaciones sin repetición** ya que:\n",
        " - El orden importa, no es lo mismo estar el nº1 que significa ser presidente que el nº 4 que corresponde al tesorero.\n",
        " - Intervienen todos. Son 4 amigos para 4 cargos, todos tienen cargo, lo que cambiar es el orden, esto es, el cargo que obtengan.\n",
        " - No se repiten elementos. Una persona no puede tener dos cargos simultaneamente.\n",
        "* Los casos que se obtienen con las permutaciones sin repetición son $P_{n}=n!$ que para este ejemplo son:\n",
        "\n",
        "$$P_{4}=4!=4 \\cdot 3 \\cdot 2 \\cdot 1 = 24$$"
      ],
      "metadata": {
        "id": "t5unIqR7jdZR"
      }
    },
    {
      "cell_type": "code",
      "source": [
        "import math\n",
        "p = math.factorial(4)\n",
        "print(\"Los casos son: \", p)\n",
        "print(\"Comprobación:  \", 4*3*2*1)"
      ],
      "metadata": {
        "id": "va3_l_-hmFS-"
      },
      "execution_count": null,
      "outputs": []
    },
    {
      "cell_type": "markdown",
      "source": [
        "#### Método 1\n",
        "Sin usar librería."
      ],
      "metadata": {
        "id": "kOM3pEAGnh8v"
      }
    },
    {
      "cell_type": "code",
      "source": [
        "lista = ['A', 'B', 'C', 'D']\n",
        "contador = 1\n",
        "\n",
        "for i in lista:\n",
        "    for j in lista:\n",
        "        for k in lista:\n",
        "            for l in lista:\n",
        "                if i != j and i != k and i != l and j != k and j != l and k != l:\n",
        "                    print(f\"{contador:2d} →  {i+j+k+l}\")\n",
        "                    contador += 1"
      ],
      "metadata": {
        "id": "5--ZpSoJncj3"
      },
      "execution_count": null,
      "outputs": []
    },
    {
      "cell_type": "markdown",
      "source": [
        "#### Método 2\n",
        "* Usamos la función `permutations` de la librería `itertools`.\n",
        "* Imprimimos todas las permutaciones de los elementos de una lista."
      ],
      "metadata": {
        "id": "2PoCD5GlnwS1"
      }
    },
    {
      "cell_type": "code",
      "source": [
        "from itertools import permutations\n",
        "\n",
        "perm = permutations(['A','B','C','D'])   # obtenemos todas las permutaciones de la lista \n",
        "\n",
        "for i in list(perm):                     # imprimimos todas las permutaciones \n",
        "    print (*i)                           # con el asterisco se muestran las listas sin corchetes ni comas"
      ],
      "metadata": {
        "id": "eKkB1gQnn6_P"
      },
      "execution_count": null,
      "outputs": []
    },
    {
      "cell_type": "markdown",
      "source": [
        "## Práctica 1.2\n",
        "Cuatro amigos:\n",
        "* Antonio (A)\n",
        "* Begoña (B)\n",
        "* Cesar (C)\n",
        "* Diana (D)\n",
        "\n",
        "constituyen una asociación y tienen que asignar los siguientes cargos:\n",
        "* Presiente (1)\n",
        "* Secretario (3)\n",
        "* Tesorero (4)\n",
        "\n",
        "Se pide:\n",
        "1. Escribiendo la solución en una celda de Markdown analice el caso indicando si se trata de variaciones, permutaciones o combinaciones, con o sin repetición o el caso que sea, y el motivo para clasificar el caso de esta forma.\n",
        "2. Utilizando fórmulas de $\\LaTeX$ calcule cuántos casos existen.\n",
        "3. Cree un programa en Python para calcule cuántos casos existen.\n",
        "4. Cree un programa en Python para imprimir todas las posibilidades y numérelas. Por ejemplo:\n",
        "    - 1 ABC\n",
        "    - 2 ABD\n",
        "    - 3 ACB\n",
        "    - &#20; &#20; &#20; ... ... ..."
      ],
      "metadata": {
        "id": "sxSuCpAFSBPJ"
      }
    },
    {
      "cell_type": "markdown",
      "source": [
        "### Solución 1.2\n",
        "+ Estamos ante un caso de variaciones sin repetición\n",
        " - Si el cargo de presidente (1) ya está ocupado, los amigos restantes solo pueden aspirar al cargo 2 y al 4. Si el cargo 1 y el 2 estuvieran también ocupados, los amigos que faltan solo pueden aspirar al cargo 4.\n",
        " - El orden si que importa ya que no es lo mismo que se el amigo A sea presidente (1) a que sea tesorero (4), por lo que el orden ABC no seria igual que BCD ya que un cargo es diferente al otro.\n",
        " - Son sin repetición ya que si un amigo es presidente (1), no puede ser tesorero (4).\n",
        " \n",
        "+ Variaciones sin repetición de 4 elementos tomados de 3 en 3:\n",
        " $$V^r_n=\\frac{n!}{(n-r)!}=n \\cdot (n-1) \\cdot (n-2) \\cdots (n-r+1)$$\n",
        "$$V^r_n=\\frac{4!}{(4-3)!}=\\frac{4!}{1!}=24$$\n",
        "\n",
        "\n",
        "\n"
      ],
      "metadata": {
        "id": "xx9qsw_ej9Pd"
      }
    },
    {
      "cell_type": "code",
      "source": [
        "import itertools\n",
        "it = itertools.permutations(['A','B','C','D'],3)\n",
        "li = list(it)\n",
        "print(li)\n",
        "\n",
        "print()\n",
        "for i in range(len(li)):\n",
        "      #print(\"Variación\",i+1,\":\", *li[i])\n",
        "      #print(f\"Variación {i+1:2d}: {li[i]}\")\n",
        "      print(f\"Variación {i+1:2d}: \", *li[i])"
      ],
      "metadata": {
        "colab": {
          "base_uri": "https://localhost:8080/"
        },
        "id": "TzXi3vI4utXy",
        "outputId": "a2af1883-ace5-49cf-e1ac-1cfd5fe0f372"
      },
      "execution_count": null,
      "outputs": [
        {
          "output_type": "stream",
          "name": "stdout",
          "text": [
            "[('A', 'B', 'C'), ('A', 'B', 'D'), ('A', 'C', 'B'), ('A', 'C', 'D'), ('A', 'D', 'B'), ('A', 'D', 'C'), ('B', 'A', 'C'), ('B', 'A', 'D'), ('B', 'C', 'A'), ('B', 'C', 'D'), ('B', 'D', 'A'), ('B', 'D', 'C'), ('C', 'A', 'B'), ('C', 'A', 'D'), ('C', 'B', 'A'), ('C', 'B', 'D'), ('C', 'D', 'A'), ('C', 'D', 'B'), ('D', 'A', 'B'), ('D', 'A', 'C'), ('D', 'B', 'A'), ('D', 'B', 'C'), ('D', 'C', 'A'), ('D', 'C', 'B')]\n",
            "\n",
            "Variación  1:  A B C\n",
            "Variación  2:  A B D\n",
            "Variación  3:  A C B\n",
            "Variación  4:  A C D\n",
            "Variación  5:  A D B\n",
            "Variación  6:  A D C\n",
            "Variación  7:  B A C\n",
            "Variación  8:  B A D\n",
            "Variación  9:  B C A\n",
            "Variación 10:  B C D\n",
            "Variación 11:  B D A\n",
            "Variación 12:  B D C\n",
            "Variación 13:  C A B\n",
            "Variación 14:  C A D\n",
            "Variación 15:  C B A\n",
            "Variación 16:  C B D\n",
            "Variación 17:  C D A\n",
            "Variación 18:  C D B\n",
            "Variación 19:  D A B\n",
            "Variación 20:  D A C\n",
            "Variación 21:  D B A\n",
            "Variación 22:  D B C\n",
            "Variación 23:  D C A\n",
            "Variación 24:  D C B\n"
          ]
        }
      ]
    },
    {
      "cell_type": "markdown",
      "source": [
        "## Práctica 1.3\n",
        "Invente un caso de **variaciones sin repetición**.\n",
        "Se pide contestar a los mismos puntos que el caso anterior."
      ],
      "metadata": {
        "id": "D0S1DjF4MKmz"
      }
    },
    {
      "cell_type": "markdown",
      "source": [
        "### ¿Cuántas palabras de 5 letras se pueden formar con las letras de la palbara **EMOCIÓN**?\n"
      ],
      "metadata": {
        "id": "U7CQ3RuLAWU-"
      }
    },
    {
      "cell_type": "markdown",
      "source": [
        "### Solución 1.3\n",
        "+ Nos encontramos ante un caso de variación sin repetición.\n",
        " - Si que importa el orden ya que no es lo mismo el orden de una palabra que formas que de otra.\n",
        "  - Son sin repetición ya que si la letra E está en la posición 1, no puede estar en la posición 4.\n",
        "+ Variaciones sin repetición de 7 elementos tomados de 5 en 5\n",
        "$$V^r_n=\\frac{n!}{(n-r)!}=n \\cdot (n-1) \\cdot (n-2) \\cdots (n-r+1)$$\n",
        "$$V^r_n=\\frac{7!}{(7-5)!}=\\frac{7!}{2!}=2520$$"
      ],
      "metadata": {
        "id": "AfyuPIASj_20"
      }
    },
    {
      "cell_type": "code",
      "source": [
        "import itertools\n",
        "it = itertools.permutations(['E','M','O','C','I','Ó','N'],5)\n",
        "li = list(it)\n",
        "print(li)\n",
        "\n",
        "print()\n",
        "for i in range(len(li)):\n",
        "      #print(\"Variación\",i+1,\":\", *li[i])\n",
        "      #print(f\"Variación {i+1:2d}: {li[i]}\")\n",
        "      print(f\"Variación {i+1:2d}: \", *li[i])"
      ],
      "metadata": {
        "id": "7YPa1ioLDI19"
      },
      "execution_count": null,
      "outputs": []
    },
    {
      "cell_type": "markdown",
      "source": [
        "## Práctica 1.4\n",
        "Invente un caso de **variaciones con repetición**.\n",
        "Se pide contestar a los mismos puntos que el caso anterior."
      ],
      "metadata": {
        "id": "gvlnqCaRMTua"
      }
    },
    {
      "cell_type": "markdown",
      "source": [
        "### Solución 1.4"
      ],
      "metadata": {
        "id": "hzvsgRDbkCy1"
      }
    },
    {
      "cell_type": "markdown",
      "source": [
        "## Práctica 1.5\n",
        "Invente un caso de **permutaciones sin repetición**.\n",
        "Se pide contestar a los mismos puntos que el caso anterior."
      ],
      "metadata": {
        "id": "0OCAC-I-G5F6"
      }
    },
    {
      "cell_type": "markdown",
      "source": [
        "### ¿De cuantás formas distintas pueden sentarse 4 personas en un banco?\n",
        "+ Se trata de un caso de permutaciones sin repetición, dado que se incluye a todos los elementos, en este caso a las 4 personas y formarán siempre grupos de 4, sin importar el orden.\n",
        "+  El número de permutaciones posibles con tres elementos es de 24:  \n",
        "$$4!=4 \\cdot 3 \\cdot 2 \\cdot 1 = 24$$"
      ],
      "metadata": {
        "id": "sTwJinp3JrTw"
      }
    },
    {
      "cell_type": "markdown",
      "source": [
        "### Solución 1.5"
      ],
      "metadata": {
        "id": "UVj0KX3ILhWy"
      }
    },
    {
      "cell_type": "code",
      "source": [
        "lista = ['a', 'b', 'c', 'd']\n",
        "\n",
        "for i in lista:\n",
        "    for j in lista:\n",
        "        for k in lista:\n",
        "            for l in lista:\n",
        "                if i != j and i != k and i != l and j != k and j != l and k != l:\n",
        "                    print(i+j+k+l)"
      ],
      "metadata": {
        "colab": {
          "base_uri": "https://localhost:8080/"
        },
        "id": "R9XIXxnRLZyj",
        "outputId": "1a0a466b-df77-4cc7-c359-abee22a842f2"
      },
      "execution_count": null,
      "outputs": [
        {
          "output_type": "stream",
          "name": "stdout",
          "text": [
            "abcd\n",
            "abdc\n",
            "acbd\n",
            "acdb\n",
            "adbc\n",
            "adcb\n",
            "bacd\n",
            "badc\n",
            "bcad\n",
            "bcda\n",
            "bdac\n",
            "bdca\n",
            "cabd\n",
            "cadb\n",
            "cbad\n",
            "cbda\n",
            "cdab\n",
            "cdba\n",
            "dabc\n",
            "dacb\n",
            "dbac\n",
            "dbca\n",
            "dcab\n",
            "dcba\n"
          ]
        }
      ]
    },
    {
      "cell_type": "markdown",
      "source": [
        "## Práctica 1.6\n",
        "Invente un caso de **permutaciones con repetición**.\n",
        "Se pide contestar a los mismos puntos que el caso anterior."
      ],
      "metadata": {
        "id": "YWUXIczqLj3W"
      }
    },
    {
      "cell_type": "markdown",
      "source": [
        "### Solución 1.6"
      ],
      "metadata": {
        "id": "siAxWVVekHs6"
      }
    },
    {
      "cell_type": "markdown",
      "source": [
        "## Práctica 1.7\n",
        "Invente un caso de **combinaciones sin repetición**.\n",
        "Se pide contestar a los mismos puntos que el caso anterior."
      ],
      "metadata": {
        "id": "opCrIDtJGg1R"
      }
    },
    {
      "cell_type": "markdown",
      "source": [
        "### En una tienda hay seis camisetas de distintos colores, si queremos comprar tres camisetas diferentes, ¿cuántas combinaciones podemos formar?\n",
        "+ A: amarilla\n",
        "+ B: rosa\n",
        "+ C: azul\n",
        "+ D: verde\n",
        "+ E: blanca\n",
        "+ F: negra\n",
        "\n",
        "\n",
        "+ Se trata de un caso de combinación sin repetición dado que los diferentes conjuntos que se pueden formar con «n» elementos, seleccionados de x en x. Cada conjunto se debe diferenciar del anterior en al menos uno de sus elementos  y estos no se pueden repetir.\n",
        "+ El orden no importa ya que da igual que la primera camiseta sea roja que a que sea azul o viceversa. Dado que esta no te pide un orden determinado, unicamente elegir tres camisetas en el orden que sea sin que se repita.\n",
        "+ No tienen que estar incluidos todos los elementos, ya que de un grupo de 6 unicamente selecionamos 3.\n",
        "\n",
        "$$ C^n_m = \\frac{V^n_m}{P_n} $$\n",
        "\n",
        "$$ C^n_m = C_{m,n} = \\binom{m}{n} = \\frac{m!}{n!(m-n)!} \\quad m \\geq n$$\n",
        "+ En este caso debemos elegir 3 camisetas de 6 que hay:\n",
        "$$C^3_6 = C_{6,3} = \\binom{6}{3} =\\frac{6!}{3!(5-3)!} = \\frac{6!}{3!3!}  = 20$$"
      ],
      "metadata": {
        "id": "vZ1RjfJgNZYD"
      }
    },
    {
      "cell_type": "code",
      "source": [
        "from math import factorial\n",
        "print(f\"Los casos que se obtienen son {int(factorial(6)/factorial(3)/factorial(6-3))}\")"
      ],
      "metadata": {
        "colab": {
          "base_uri": "https://localhost:8080/"
        },
        "id": "R5j1ih33RPiM",
        "outputId": "b9beb46c-4523-433e-9e6d-bd23f7146b22"
      },
      "execution_count": 4,
      "outputs": [
        {
          "output_type": "stream",
          "name": "stdout",
          "text": [
            "Los casos que se obtienen son 20\n"
          ]
        }
      ]
    },
    {
      "cell_type": "code",
      "source": [
        "from itertools import combinations\n",
        "c = combinations('ABCDEF', 3)\n",
        "\n",
        "for i in c:\n",
        "    print(\"\".join(i), end=\", \")"
      ],
      "metadata": {
        "colab": {
          "base_uri": "https://localhost:8080/"
        },
        "id": "g1_7pLsYRrld",
        "outputId": "0aecfbcd-0d38-4864-cb1f-07694d21a160"
      },
      "execution_count": 6,
      "outputs": [
        {
          "output_type": "stream",
          "name": "stdout",
          "text": [
            "ABC, ABD, ABE, ABF, ACD, ACE, ACF, ADE, ADF, AEF, BCD, BCE, BCF, BDE, BDF, BEF, CDE, CDF, CEF, DEF, "
          ]
        }
      ]
    },
    {
      "cell_type": "markdown",
      "source": [
        "### Solución 1.7"
      ],
      "metadata": {
        "id": "Zs46BsRnkJcl"
      }
    },
    {
      "cell_type": "markdown",
      "source": [
        "## Práctica 1.8\n",
        "Invente un caso de **combinaciones con repetición**.\n",
        "Se pide contestar a los mismos puntos que el caso anterior."
      ],
      "metadata": {
        "id": "-7Y5WWlDGzAR"
      }
    },
    {
      "cell_type": "markdown",
      "source": [
        "### Solución 1.8"
      ],
      "metadata": {
        "id": "ReRULqd8kL1F"
      }
    },
    {
      "cell_type": "markdown",
      "source": [
        "## Práctica 1.9\n",
        "En el gobierno se crea una unidad de crisis formada por el presidente (P) y 4 ministros (A,B,C,D) que se reúnen sentados alrededor de una **mesa redonda**.\n",
        "\n",
        "Se pide:  \n",
        "1. Calcule de cuantas formas pueden llegar a sentarse si el ministro de defensa (D) siempre ha de estar al lado del presidente (P). Escriba la solución en una celda de Markdown utilizando fórmulas en $\\LaTeX$  explicando el caso.\n",
        "2. Cree un programa en Python para calcular el número de casos que se pueden dar al sentarse en la mesa.\n",
        "3. Cree un programa en Python para imprimir todas las posibilidades y numérelas. Por ejemplo:\n",
        "    - 1 PDABC\n",
        "    - 2 PDACB\n",
        "    - 3 PDBCD\n",
        "    - 4 PDBDC\n",
        "    - 5 PDCAB\n",
        "    - 6 PDCBA\n",
        "    - 7 DPABC\n",
        "    - 8 DPACB\n",
        "    - &#20; &#20; &#20; ... ... ...\n"
      ],
      "metadata": {
        "id": "SOzxh_YgHnDG"
      }
    },
    {
      "cell_type": "markdown",
      "source": [
        "### Solución 1.9"
      ],
      "metadata": {
        "id": "F8kV034OkQZX"
      }
    },
    {
      "cell_type": "markdown",
      "source": [
        "## Práctica 1.10\n",
        "* Realice una breve explicación teórica del **triángulo de Pascal**, o también llamado triángulo de Tartaglia, y de las fórmulas de los números combinatorios.\n",
        "* Cree un programa en Python para hacer el triángulo de Pascal."
      ],
      "metadata": {
        "id": "eiHdMOP-MkrZ"
      }
    },
    {
      "cell_type": "markdown",
      "source": [
        "### Solución 1.10"
      ],
      "metadata": {
        "id": "j0UT2579kTSM"
      }
    }
  ]
}